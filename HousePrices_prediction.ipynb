{
 "cells": [
  {
   "cell_type": "code",
   "execution_count": 1,
   "id": "0719992c-d531-43c9-9953-82fce93a6d3b",
   "metadata": {},
   "outputs": [],
   "source": [
    "import pandas as pd\n",
    "import seaborn as sns"
   ]
  },
  {
   "cell_type": "code",
   "execution_count": 2,
   "id": "7cbc83bd-fb69-414f-a295-e076e8640b67",
   "metadata": {},
   "outputs": [],
   "source": [
    "df=pd.read_csv(r\"C:\\Users\\HP\\Downloads\\Home Price Prediction & Analysis .csv\")"
   ]
  },
  {
   "cell_type": "code",
   "execution_count": 3,
   "id": "cc3509b6-e1dc-422f-bad9-35c78a69a737",
   "metadata": {},
   "outputs": [
    {
     "data": {
      "text/html": [
       "<div>\n",
       "<style scoped>\n",
       "    .dataframe tbody tr th:only-of-type {\n",
       "        vertical-align: middle;\n",
       "    }\n",
       "\n",
       "    .dataframe tbody tr th {\n",
       "        vertical-align: top;\n",
       "    }\n",
       "\n",
       "    .dataframe thead th {\n",
       "        text-align: right;\n",
       "    }\n",
       "</style>\n",
       "<table border=\"1\" class=\"dataframe\">\n",
       "  <thead>\n",
       "    <tr style=\"text-align: right;\">\n",
       "      <th></th>\n",
       "      <th>Suburb</th>\n",
       "      <th>Address</th>\n",
       "      <th>Rooms</th>\n",
       "      <th>Type</th>\n",
       "      <th>Price</th>\n",
       "      <th>Method</th>\n",
       "      <th>SellerG</th>\n",
       "      <th>Date</th>\n",
       "      <th>Distance</th>\n",
       "      <th>Postcode</th>\n",
       "      <th>...</th>\n",
       "      <th>Bathroom</th>\n",
       "      <th>Car</th>\n",
       "      <th>Landsize</th>\n",
       "      <th>BuildingArea</th>\n",
       "      <th>YearBuilt</th>\n",
       "      <th>CouncilArea</th>\n",
       "      <th>Lattitude</th>\n",
       "      <th>Longtitude</th>\n",
       "      <th>Regionname</th>\n",
       "      <th>Propertycount</th>\n",
       "    </tr>\n",
       "  </thead>\n",
       "  <tbody>\n",
       "    <tr>\n",
       "      <th>0</th>\n",
       "      <td>Abbotsford</td>\n",
       "      <td>68 Studley St</td>\n",
       "      <td>2</td>\n",
       "      <td>h</td>\n",
       "      <td>NaN</td>\n",
       "      <td>SS</td>\n",
       "      <td>Jellis</td>\n",
       "      <td>03/09/2016</td>\n",
       "      <td>2.5</td>\n",
       "      <td>3067.0</td>\n",
       "      <td>...</td>\n",
       "      <td>1.0</td>\n",
       "      <td>1.0</td>\n",
       "      <td>126.0</td>\n",
       "      <td>NaN</td>\n",
       "      <td>NaN</td>\n",
       "      <td>Yarra City Council</td>\n",
       "      <td>-37.8014</td>\n",
       "      <td>144.9958</td>\n",
       "      <td>Northern Metropolitan</td>\n",
       "      <td>4019.0</td>\n",
       "    </tr>\n",
       "    <tr>\n",
       "      <th>1</th>\n",
       "      <td>Abbotsford</td>\n",
       "      <td>85 Turner St</td>\n",
       "      <td>2</td>\n",
       "      <td>h</td>\n",
       "      <td>1480000.0</td>\n",
       "      <td>S</td>\n",
       "      <td>Biggin</td>\n",
       "      <td>03/12/2016</td>\n",
       "      <td>2.5</td>\n",
       "      <td>3067.0</td>\n",
       "      <td>...</td>\n",
       "      <td>1.0</td>\n",
       "      <td>1.0</td>\n",
       "      <td>202.0</td>\n",
       "      <td>NaN</td>\n",
       "      <td>NaN</td>\n",
       "      <td>Yarra City Council</td>\n",
       "      <td>-37.7996</td>\n",
       "      <td>144.9984</td>\n",
       "      <td>Northern Metropolitan</td>\n",
       "      <td>4019.0</td>\n",
       "    </tr>\n",
       "  </tbody>\n",
       "</table>\n",
       "<p>2 rows × 21 columns</p>\n",
       "</div>"
      ],
      "text/plain": [
       "       Suburb        Address  Rooms Type      Price Method SellerG  \\\n",
       "0  Abbotsford  68 Studley St      2    h        NaN     SS  Jellis   \n",
       "1  Abbotsford   85 Turner St      2    h  1480000.0      S  Biggin   \n",
       "\n",
       "         Date  Distance  Postcode  ...  Bathroom  Car  Landsize  BuildingArea  \\\n",
       "0  03/09/2016       2.5    3067.0  ...       1.0  1.0     126.0           NaN   \n",
       "1  03/12/2016       2.5    3067.0  ...       1.0  1.0     202.0           NaN   \n",
       "\n",
       "   YearBuilt         CouncilArea Lattitude  Longtitude             Regionname  \\\n",
       "0        NaN  Yarra City Council  -37.8014    144.9958  Northern Metropolitan   \n",
       "1        NaN  Yarra City Council  -37.7996    144.9984  Northern Metropolitan   \n",
       "\n",
       "  Propertycount  \n",
       "0        4019.0  \n",
       "1        4019.0  \n",
       "\n",
       "[2 rows x 21 columns]"
      ]
     },
     "execution_count": 3,
     "metadata": {},
     "output_type": "execute_result"
    }
   ],
   "source": [
    "df.head(2)"
   ]
  },
  {
   "cell_type": "code",
   "execution_count": 4,
   "id": "9bf74d0d-8e02-485a-9a02-3119756788c8",
   "metadata": {},
   "outputs": [
    {
     "data": {
      "text/plain": [
       "1"
      ]
     },
     "execution_count": 4,
     "metadata": {},
     "output_type": "execute_result"
    }
   ],
   "source": [
    "df.duplicated().sum()"
   ]
  },
  {
   "cell_type": "code",
   "execution_count": 5,
   "id": "3941cd4d-2441-4e7f-92d3-5b88f807e5cf",
   "metadata": {},
   "outputs": [],
   "source": [
    "df.drop_duplicates(inplace=True)"
   ]
  },
  {
   "cell_type": "code",
   "execution_count": 6,
   "id": "99a99f62-ff7d-4e5d-b215-a7c3390a1955",
   "metadata": {},
   "outputs": [
    {
     "data": {
      "text/plain": [
       "Suburb               0\n",
       "Address              0\n",
       "Rooms                0\n",
       "Type                 0\n",
       "Price             7609\n",
       "Method               0\n",
       "SellerG              0\n",
       "Date                 0\n",
       "Distance             1\n",
       "Postcode             1\n",
       "Bedroom2          8217\n",
       "Bathroom          8226\n",
       "Car               8728\n",
       "Landsize         11810\n",
       "BuildingArea     21115\n",
       "YearBuilt        19306\n",
       "CouncilArea          3\n",
       "Lattitude         7976\n",
       "Longtitude        7976\n",
       "Regionname           3\n",
       "Propertycount        3\n",
       "dtype: int64"
      ]
     },
     "execution_count": 6,
     "metadata": {},
     "output_type": "execute_result"
    }
   ],
   "source": [
    "df.isnull().sum()"
   ]
  },
  {
   "cell_type": "code",
   "execution_count": 7,
   "id": "ce7ff69a-e8ac-4a1f-bb19-b25221829a4c",
   "metadata": {},
   "outputs": [
    {
     "data": {
      "text/html": [
       "<div>\n",
       "<style scoped>\n",
       "    .dataframe tbody tr th:only-of-type {\n",
       "        vertical-align: middle;\n",
       "    }\n",
       "\n",
       "    .dataframe tbody tr th {\n",
       "        vertical-align: top;\n",
       "    }\n",
       "\n",
       "    .dataframe thead th {\n",
       "        text-align: right;\n",
       "    }\n",
       "</style>\n",
       "<table border=\"1\" class=\"dataframe\">\n",
       "  <thead>\n",
       "    <tr style=\"text-align: right;\">\n",
       "      <th></th>\n",
       "      <th>Rooms</th>\n",
       "      <th>Price</th>\n",
       "      <th>Distance</th>\n",
       "      <th>Postcode</th>\n",
       "      <th>Bedroom2</th>\n",
       "      <th>Bathroom</th>\n",
       "      <th>Car</th>\n",
       "      <th>Landsize</th>\n",
       "      <th>BuildingArea</th>\n",
       "      <th>YearBuilt</th>\n",
       "      <th>Lattitude</th>\n",
       "      <th>Longtitude</th>\n",
       "      <th>Propertycount</th>\n",
       "    </tr>\n",
       "  </thead>\n",
       "  <tbody>\n",
       "    <tr>\n",
       "      <th>count</th>\n",
       "      <td>34856.000000</td>\n",
       "      <td>2.724700e+04</td>\n",
       "      <td>34855.000000</td>\n",
       "      <td>34855.000000</td>\n",
       "      <td>26639.000000</td>\n",
       "      <td>26630.000000</td>\n",
       "      <td>26128.000000</td>\n",
       "      <td>23046.000000</td>\n",
       "      <td>13741.000000</td>\n",
       "      <td>15550.000000</td>\n",
       "      <td>26880.000000</td>\n",
       "      <td>26880.000000</td>\n",
       "      <td>34853.000000</td>\n",
       "    </tr>\n",
       "    <tr>\n",
       "      <th>mean</th>\n",
       "      <td>3.031013</td>\n",
       "      <td>1.050173e+06</td>\n",
       "      <td>11.184808</td>\n",
       "      <td>3116.062430</td>\n",
       "      <td>3.084650</td>\n",
       "      <td>1.624747</td>\n",
       "      <td>1.728835</td>\n",
       "      <td>593.607177</td>\n",
       "      <td>160.251616</td>\n",
       "      <td>1965.287653</td>\n",
       "      <td>-37.810634</td>\n",
       "      <td>145.001845</td>\n",
       "      <td>7572.962901</td>\n",
       "    </tr>\n",
       "    <tr>\n",
       "      <th>std</th>\n",
       "      <td>0.969947</td>\n",
       "      <td>6.414671e+05</td>\n",
       "      <td>6.788952</td>\n",
       "      <td>109.025437</td>\n",
       "      <td>0.980708</td>\n",
       "      <td>0.724177</td>\n",
       "      <td>1.010789</td>\n",
       "      <td>3398.915462</td>\n",
       "      <td>401.281270</td>\n",
       "      <td>37.328340</td>\n",
       "      <td>0.090281</td>\n",
       "      <td>0.120167</td>\n",
       "      <td>4428.131940</td>\n",
       "    </tr>\n",
       "    <tr>\n",
       "      <th>min</th>\n",
       "      <td>1.000000</td>\n",
       "      <td>8.500000e+04</td>\n",
       "      <td>0.000000</td>\n",
       "      <td>3000.000000</td>\n",
       "      <td>0.000000</td>\n",
       "      <td>0.000000</td>\n",
       "      <td>0.000000</td>\n",
       "      <td>0.000000</td>\n",
       "      <td>0.000000</td>\n",
       "      <td>1196.000000</td>\n",
       "      <td>-38.190430</td>\n",
       "      <td>144.423790</td>\n",
       "      <td>83.000000</td>\n",
       "    </tr>\n",
       "    <tr>\n",
       "      <th>25%</th>\n",
       "      <td>2.000000</td>\n",
       "      <td>6.350000e+05</td>\n",
       "      <td>6.400000</td>\n",
       "      <td>3051.000000</td>\n",
       "      <td>2.000000</td>\n",
       "      <td>1.000000</td>\n",
       "      <td>1.000000</td>\n",
       "      <td>224.000000</td>\n",
       "      <td>102.000000</td>\n",
       "      <td>1940.000000</td>\n",
       "      <td>-37.862950</td>\n",
       "      <td>144.933500</td>\n",
       "      <td>4385.000000</td>\n",
       "    </tr>\n",
       "    <tr>\n",
       "      <th>50%</th>\n",
       "      <td>3.000000</td>\n",
       "      <td>8.700000e+05</td>\n",
       "      <td>10.300000</td>\n",
       "      <td>3103.000000</td>\n",
       "      <td>3.000000</td>\n",
       "      <td>2.000000</td>\n",
       "      <td>2.000000</td>\n",
       "      <td>521.000000</td>\n",
       "      <td>136.000000</td>\n",
       "      <td>1970.000000</td>\n",
       "      <td>-37.807600</td>\n",
       "      <td>145.007800</td>\n",
       "      <td>6763.000000</td>\n",
       "    </tr>\n",
       "    <tr>\n",
       "      <th>75%</th>\n",
       "      <td>4.000000</td>\n",
       "      <td>1.295000e+06</td>\n",
       "      <td>14.000000</td>\n",
       "      <td>3156.000000</td>\n",
       "      <td>4.000000</td>\n",
       "      <td>2.000000</td>\n",
       "      <td>2.000000</td>\n",
       "      <td>670.000000</td>\n",
       "      <td>188.000000</td>\n",
       "      <td>2000.000000</td>\n",
       "      <td>-37.754092</td>\n",
       "      <td>145.071900</td>\n",
       "      <td>10412.000000</td>\n",
       "    </tr>\n",
       "    <tr>\n",
       "      <th>max</th>\n",
       "      <td>16.000000</td>\n",
       "      <td>1.120000e+07</td>\n",
       "      <td>48.100000</td>\n",
       "      <td>3978.000000</td>\n",
       "      <td>30.000000</td>\n",
       "      <td>12.000000</td>\n",
       "      <td>26.000000</td>\n",
       "      <td>433014.000000</td>\n",
       "      <td>44515.000000</td>\n",
       "      <td>2106.000000</td>\n",
       "      <td>-37.390200</td>\n",
       "      <td>145.526350</td>\n",
       "      <td>21650.000000</td>\n",
       "    </tr>\n",
       "  </tbody>\n",
       "</table>\n",
       "</div>"
      ],
      "text/plain": [
       "              Rooms         Price      Distance      Postcode      Bedroom2  \\\n",
       "count  34856.000000  2.724700e+04  34855.000000  34855.000000  26639.000000   \n",
       "mean       3.031013  1.050173e+06     11.184808   3116.062430      3.084650   \n",
       "std        0.969947  6.414671e+05      6.788952    109.025437      0.980708   \n",
       "min        1.000000  8.500000e+04      0.000000   3000.000000      0.000000   \n",
       "25%        2.000000  6.350000e+05      6.400000   3051.000000      2.000000   \n",
       "50%        3.000000  8.700000e+05     10.300000   3103.000000      3.000000   \n",
       "75%        4.000000  1.295000e+06     14.000000   3156.000000      4.000000   \n",
       "max       16.000000  1.120000e+07     48.100000   3978.000000     30.000000   \n",
       "\n",
       "           Bathroom           Car       Landsize  BuildingArea     YearBuilt  \\\n",
       "count  26630.000000  26128.000000   23046.000000  13741.000000  15550.000000   \n",
       "mean       1.624747      1.728835     593.607177    160.251616   1965.287653   \n",
       "std        0.724177      1.010789    3398.915462    401.281270     37.328340   \n",
       "min        0.000000      0.000000       0.000000      0.000000   1196.000000   \n",
       "25%        1.000000      1.000000     224.000000    102.000000   1940.000000   \n",
       "50%        2.000000      2.000000     521.000000    136.000000   1970.000000   \n",
       "75%        2.000000      2.000000     670.000000    188.000000   2000.000000   \n",
       "max       12.000000     26.000000  433014.000000  44515.000000   2106.000000   \n",
       "\n",
       "          Lattitude    Longtitude  Propertycount  \n",
       "count  26880.000000  26880.000000   34853.000000  \n",
       "mean     -37.810634    145.001845    7572.962901  \n",
       "std        0.090281      0.120167    4428.131940  \n",
       "min      -38.190430    144.423790      83.000000  \n",
       "25%      -37.862950    144.933500    4385.000000  \n",
       "50%      -37.807600    145.007800    6763.000000  \n",
       "75%      -37.754092    145.071900   10412.000000  \n",
       "max      -37.390200    145.526350   21650.000000  "
      ]
     },
     "execution_count": 7,
     "metadata": {},
     "output_type": "execute_result"
    }
   ],
   "source": [
    "df.describe()"
   ]
  },
  {
   "cell_type": "code",
   "execution_count": 8,
   "id": "ae85d2cc-92eb-4a81-9f8f-bca3c66f2f45",
   "metadata": {},
   "outputs": [
    {
     "data": {
      "text/plain": [
       "1050173.344955408"
      ]
     },
     "execution_count": 8,
     "metadata": {},
     "output_type": "execute_result"
    }
   ],
   "source": [
    "df[\"Price\"].mean()"
   ]
  },
  {
   "cell_type": "code",
   "execution_count": 9,
   "id": "c90498fb-e94e-40da-9dd6-fbf32f1ff648",
   "metadata": {},
   "outputs": [
    {
     "name": "stderr",
     "output_type": "stream",
     "text": [
      "C:\\Users\\HP\\AppData\\Local\\Temp\\ipykernel_3428\\2277492941.py:1: FutureWarning: A value is trying to be set on a copy of a DataFrame or Series through chained assignment using an inplace method.\n",
      "The behavior will change in pandas 3.0. This inplace method will never work because the intermediate object on which we are setting values always behaves as a copy.\n",
      "\n",
      "For example, when doing 'df[col].method(value, inplace=True)', try using 'df.method({col: value}, inplace=True)' or df[col] = df[col].method(value) instead, to perform the operation inplace on the original object.\n",
      "\n",
      "\n",
      "  df[\"Price\"].fillna(1050173,inplace=True)\n"
     ]
    }
   ],
   "source": [
    "df[\"Price\"].fillna(1050173,inplace=True)"
   ]
  },
  {
   "cell_type": "code",
   "execution_count": 10,
   "id": "4711df29-a339-4dfc-bbd0-0b01d917c3cb",
   "metadata": {},
   "outputs": [
    {
     "data": {
      "text/plain": [
       "Suburb            0.000000\n",
       "Address           0.000000\n",
       "Rooms             0.000000\n",
       "Type              0.000000\n",
       "Price             0.000000\n",
       "Method            0.000000\n",
       "SellerG           0.000000\n",
       "Date              0.000000\n",
       "Distance          0.001071\n",
       "Postcode          0.001071\n",
       "Bedroom2          8.800943\n",
       "Bathroom          8.810582\n",
       "Car               9.348257\n",
       "Landsize         12.649280\n",
       "BuildingArea     22.615541\n",
       "YearBuilt        20.677984\n",
       "CouncilArea       0.003213\n",
       "Lattitude         8.542816\n",
       "Longtitude        8.542816\n",
       "Regionname        0.003213\n",
       "Propertycount     0.003213\n",
       "dtype: float64"
      ]
     },
     "execution_count": 10,
     "metadata": {},
     "output_type": "execute_result"
    }
   ],
   "source": [
    "(df.isnull().sum())/(df.isnull().sum().sum())*100"
   ]
  },
  {
   "cell_type": "code",
   "execution_count": 11,
   "id": "f221ab1c-0b52-4b11-a92e-58014cc3cf6a",
   "metadata": {},
   "outputs": [],
   "source": [
    "df = df.drop(['Address','Date','Postcode','YearBuilt',\"Lattitude\",\"Longtitude\"],axis=1)"
   ]
  },
  {
   "cell_type": "code",
   "execution_count": 12,
   "id": "fafb12a7-f9b8-41ae-9939-fe007ded7d8b",
   "metadata": {},
   "outputs": [
    {
     "data": {
      "text/plain": [
       "Index(['Suburb', 'Rooms', 'Type', 'Price', 'Method', 'SellerG', 'Distance',\n",
       "       'Bedroom2', 'Bathroom', 'Car', 'Landsize', 'BuildingArea',\n",
       "       'CouncilArea', 'Regionname', 'Propertycount'],\n",
       "      dtype='object')"
      ]
     },
     "execution_count": 12,
     "metadata": {},
     "output_type": "execute_result"
    }
   ],
   "source": [
    "df.columns"
   ]
  },
  {
   "cell_type": "code",
   "execution_count": 13,
   "id": "f3711aac-fa9b-4eba-b8b8-42314291e720",
   "metadata": {},
   "outputs": [
    {
     "data": {
      "text/plain": [
       "Suburb            0.000000\n",
       "Rooms             0.000000\n",
       "Type              0.000000\n",
       "Price             0.000000\n",
       "Method            0.000000\n",
       "SellerG           0.000000\n",
       "Distance          0.001721\n",
       "Bedroom2         14.141397\n",
       "Bathroom         14.156886\n",
       "Car              15.020824\n",
       "Landsize         20.324923\n",
       "BuildingArea     36.338760\n",
       "CouncilArea       0.005163\n",
       "Regionname        0.005163\n",
       "Propertycount     0.005163\n",
       "dtype: float64"
      ]
     },
     "execution_count": 13,
     "metadata": {},
     "output_type": "execute_result"
    }
   ],
   "source": [
    "(df.isnull().sum())/(df.isnull().sum().sum())*100"
   ]
  },
  {
   "cell_type": "code",
   "execution_count": 14,
   "id": "9130fd70-a34a-4389-b09c-656d119b3127",
   "metadata": {},
   "outputs": [
    {
     "name": "stderr",
     "output_type": "stream",
     "text": [
      "C:\\Users\\HP\\AppData\\Local\\Temp\\ipykernel_3428\\2712058723.py:1: FutureWarning: A value is trying to be set on a copy of a DataFrame or Series through chained assignment using an inplace method.\n",
      "The behavior will change in pandas 3.0. This inplace method will never work because the intermediate object on which we are setting values always behaves as a copy.\n",
      "\n",
      "For example, when doing 'df[col].method(value, inplace=True)', try using 'df.method({col: value}, inplace=True)' or df[col] = df[col].method(value) instead, to perform the operation inplace on the original object.\n",
      "\n",
      "\n",
      "  df[\"CouncilArea\"].fillna(df[\"CouncilArea\"].mode()[0],inplace=True)\n"
     ]
    }
   ],
   "source": [
    "df[\"CouncilArea\"].fillna(df[\"CouncilArea\"].mode()[0],inplace=True)"
   ]
  },
  {
   "cell_type": "code",
   "execution_count": 15,
   "id": "f5eb86fd-b60a-4845-bffd-05decdb3d1e5",
   "metadata": {},
   "outputs": [
    {
     "data": {
      "text/html": [
       "<div>\n",
       "<style scoped>\n",
       "    .dataframe tbody tr th:only-of-type {\n",
       "        vertical-align: middle;\n",
       "    }\n",
       "\n",
       "    .dataframe tbody tr th {\n",
       "        vertical-align: top;\n",
       "    }\n",
       "\n",
       "    .dataframe thead th {\n",
       "        text-align: right;\n",
       "    }\n",
       "</style>\n",
       "<table border=\"1\" class=\"dataframe\">\n",
       "  <thead>\n",
       "    <tr style=\"text-align: right;\">\n",
       "      <th></th>\n",
       "      <th>Suburb</th>\n",
       "      <th>Rooms</th>\n",
       "      <th>Type</th>\n",
       "      <th>Price</th>\n",
       "      <th>Method</th>\n",
       "      <th>SellerG</th>\n",
       "      <th>Distance</th>\n",
       "      <th>Bedroom2</th>\n",
       "      <th>Bathroom</th>\n",
       "      <th>Car</th>\n",
       "      <th>Landsize</th>\n",
       "      <th>BuildingArea</th>\n",
       "      <th>CouncilArea</th>\n",
       "      <th>Regionname</th>\n",
       "      <th>Propertycount</th>\n",
       "    </tr>\n",
       "  </thead>\n",
       "  <tbody>\n",
       "    <tr>\n",
       "      <th>29483</th>\n",
       "      <td>Fawkner Lot</td>\n",
       "      <td>3</td>\n",
       "      <td>h</td>\n",
       "      <td>616000.0</td>\n",
       "      <td>SP</td>\n",
       "      <td>Brad</td>\n",
       "      <td>NaN</td>\n",
       "      <td>NaN</td>\n",
       "      <td>NaN</td>\n",
       "      <td>NaN</td>\n",
       "      <td>NaN</td>\n",
       "      <td>NaN</td>\n",
       "      <td>Boroondara City Council</td>\n",
       "      <td>NaN</td>\n",
       "      <td>NaN</td>\n",
       "    </tr>\n",
       "  </tbody>\n",
       "</table>\n",
       "</div>"
      ],
      "text/plain": [
       "            Suburb  Rooms Type     Price Method SellerG  Distance  Bedroom2  \\\n",
       "29483  Fawkner Lot      3    h  616000.0     SP    Brad       NaN       NaN   \n",
       "\n",
       "       Bathroom  Car  Landsize  BuildingArea              CouncilArea  \\\n",
       "29483       NaN  NaN       NaN           NaN  Boroondara City Council   \n",
       "\n",
       "      Regionname  Propertycount  \n",
       "29483        NaN            NaN  "
      ]
     },
     "execution_count": 15,
     "metadata": {},
     "output_type": "execute_result"
    }
   ],
   "source": [
    "df[df[\"Distance\"].isnull()==True]"
   ]
  },
  {
   "cell_type": "code",
   "execution_count": 16,
   "id": "060dec13-223e-4fd1-b06e-5213e526ab45",
   "metadata": {},
   "outputs": [
    {
     "name": "stderr",
     "output_type": "stream",
     "text": [
      "C:\\Users\\HP\\AppData\\Local\\Temp\\ipykernel_3428\\3997372583.py:1: FutureWarning: A value is trying to be set on a copy of a DataFrame or Series through chained assignment using an inplace method.\n",
      "The behavior will change in pandas 3.0. This inplace method will never work because the intermediate object on which we are setting values always behaves as a copy.\n",
      "\n",
      "For example, when doing 'df[col].method(value, inplace=True)', try using 'df.method({col: value}, inplace=True)' or df[col] = df[col].method(value) instead, to perform the operation inplace on the original object.\n",
      "\n",
      "\n",
      "  df[\"Distance\"].fillna(13.5,inplace=True)\n"
     ]
    }
   ],
   "source": [
    "df[\"Distance\"].fillna(13.5,inplace=True)"
   ]
  },
  {
   "cell_type": "code",
   "execution_count": 17,
   "id": "35f9fc42-08a5-44f8-983d-64f7550ad20d",
   "metadata": {},
   "outputs": [
    {
     "name": "stderr",
     "output_type": "stream",
     "text": [
      "C:\\Users\\HP\\AppData\\Local\\Temp\\ipykernel_3428\\63282616.py:1: FutureWarning: A value is trying to be set on a copy of a DataFrame or Series through chained assignment using an inplace method.\n",
      "The behavior will change in pandas 3.0. This inplace method will never work because the intermediate object on which we are setting values always behaves as a copy.\n",
      "\n",
      "For example, when doing 'df[col].method(value, inplace=True)', try using 'df.method({col: value}, inplace=True)' or df[col] = df[col].method(value) instead, to perform the operation inplace on the original object.\n",
      "\n",
      "\n",
      "  df[\"Propertycount\"].fillna(6763,inplace=True) # 50%\n"
     ]
    }
   ],
   "source": [
    "df[\"Propertycount\"].fillna(6763,inplace=True) # 50%"
   ]
  },
  {
   "cell_type": "code",
   "execution_count": 18,
   "id": "73e61a89-0f5b-42c0-b904-38e9e0e35c29",
   "metadata": {},
   "outputs": [
    {
     "name": "stderr",
     "output_type": "stream",
     "text": [
      "C:\\Users\\HP\\AppData\\Local\\Temp\\ipykernel_3428\\218111854.py:1: FutureWarning: A value is trying to be set on a copy of a DataFrame or Series through chained assignment using an inplace method.\n",
      "The behavior will change in pandas 3.0. This inplace method will never work because the intermediate object on which we are setting values always behaves as a copy.\n",
      "\n",
      "For example, when doing 'df[col].method(value, inplace=True)', try using 'df.method({col: value}, inplace=True)' or df[col] = df[col].method(value) instead, to perform the operation inplace on the original object.\n",
      "\n",
      "\n",
      "  df[\"Regionname\"].fillna(df[\"Regionname\"].mode()[0],inplace=True)\n"
     ]
    }
   ],
   "source": [
    "df[\"Regionname\"].fillna(df[\"Regionname\"].mode()[0],inplace=True)"
   ]
  },
  {
   "cell_type": "code",
   "execution_count": 19,
   "id": "4d150fd1-b3f5-4826-ad05-82f545bd0387",
   "metadata": {},
   "outputs": [
    {
     "data": {
      "text/plain": [
       "160.25161587220725"
      ]
     },
     "execution_count": 19,
     "metadata": {},
     "output_type": "execute_result"
    }
   ],
   "source": [
    "df[\"BuildingArea\"].mean()"
   ]
  },
  {
   "cell_type": "code",
   "execution_count": 20,
   "id": "99ab65c3-96a7-420a-8808-5f1c6b563b6f",
   "metadata": {},
   "outputs": [
    {
     "name": "stderr",
     "output_type": "stream",
     "text": [
      "C:\\Users\\HP\\AppData\\Local\\Temp\\ipykernel_3428\\1310268470.py:1: FutureWarning: A value is trying to be set on a copy of a DataFrame or Series through chained assignment using an inplace method.\n",
      "The behavior will change in pandas 3.0. This inplace method will never work because the intermediate object on which we are setting values always behaves as a copy.\n",
      "\n",
      "For example, when doing 'df[col].method(value, inplace=True)', try using 'df.method({col: value}, inplace=True)' or df[col] = df[col].method(value) instead, to perform the operation inplace on the original object.\n",
      "\n",
      "\n",
      "  df[\"BuildingArea\"].fillna(136,inplace=True)\n"
     ]
    }
   ],
   "source": [
    "df[\"BuildingArea\"].fillna(136,inplace=True)"
   ]
  },
  {
   "cell_type": "code",
   "execution_count": 21,
   "id": "d6750fe6-d273-4bd1-a3ae-e55fee787959",
   "metadata": {},
   "outputs": [
    {
     "data": {
      "text/plain": [
       "593.607176950447"
      ]
     },
     "execution_count": 21,
     "metadata": {},
     "output_type": "execute_result"
    }
   ],
   "source": [
    "df[\"Landsize\"].mean()"
   ]
  },
  {
   "cell_type": "code",
   "execution_count": 22,
   "id": "72542c2f-a2ee-4a81-9407-65f51c8963fd",
   "metadata": {},
   "outputs": [
    {
     "name": "stderr",
     "output_type": "stream",
     "text": [
      "C:\\Users\\HP\\AppData\\Local\\Temp\\ipykernel_3428\\1511158256.py:1: FutureWarning: A value is trying to be set on a copy of a DataFrame or Series through chained assignment using an inplace method.\n",
      "The behavior will change in pandas 3.0. This inplace method will never work because the intermediate object on which we are setting values always behaves as a copy.\n",
      "\n",
      "For example, when doing 'df[col].method(value, inplace=True)', try using 'df.method({col: value}, inplace=True)' or df[col] = df[col].method(value) instead, to perform the operation inplace on the original object.\n",
      "\n",
      "\n",
      "  df[\"Landsize\"].fillna(521,inplace=True)\n"
     ]
    }
   ],
   "source": [
    "df[\"Landsize\"].fillna(521,inplace=True)"
   ]
  },
  {
   "cell_type": "code",
   "execution_count": 23,
   "id": "5de531f6-b81e-42a9-87b6-a7b275c5db64",
   "metadata": {},
   "outputs": [
    {
     "name": "stderr",
     "output_type": "stream",
     "text": [
      "C:\\Users\\HP\\AppData\\Local\\Temp\\ipykernel_3428\\4265636771.py:1: FutureWarning: A value is trying to be set on a copy of a DataFrame or Series through chained assignment using an inplace method.\n",
      "The behavior will change in pandas 3.0. This inplace method will never work because the intermediate object on which we are setting values always behaves as a copy.\n",
      "\n",
      "For example, when doing 'df[col].method(value, inplace=True)', try using 'df.method({col: value}, inplace=True)' or df[col] = df[col].method(value) instead, to perform the operation inplace on the original object.\n",
      "\n",
      "\n",
      "  df[\"Car\"].fillna(2,inplace=True)\n"
     ]
    }
   ],
   "source": [
    "df[\"Car\"].fillna(2,inplace=True)"
   ]
  },
  {
   "cell_type": "code",
   "execution_count": 24,
   "id": "5c04e397-311d-476c-a0da-59c9c5e1b4f9",
   "metadata": {},
   "outputs": [
    {
     "data": {
      "text/plain": [
       "3.0846503247118884"
      ]
     },
     "execution_count": 24,
     "metadata": {},
     "output_type": "execute_result"
    }
   ],
   "source": [
    "df[\"Bedroom2\"].mean()"
   ]
  },
  {
   "cell_type": "code",
   "execution_count": 25,
   "id": "c10d461f-590a-4029-93d1-a9a7bd479023",
   "metadata": {},
   "outputs": [
    {
     "name": "stderr",
     "output_type": "stream",
     "text": [
      "C:\\Users\\HP\\AppData\\Local\\Temp\\ipykernel_3428\\1789398082.py:1: FutureWarning: A value is trying to be set on a copy of a DataFrame or Series through chained assignment using an inplace method.\n",
      "The behavior will change in pandas 3.0. This inplace method will never work because the intermediate object on which we are setting values always behaves as a copy.\n",
      "\n",
      "For example, when doing 'df[col].method(value, inplace=True)', try using 'df.method({col: value}, inplace=True)' or df[col] = df[col].method(value) instead, to perform the operation inplace on the original object.\n",
      "\n",
      "\n",
      "  df[\"Bedroom2\"].fillna(3,inplace=True)\n"
     ]
    }
   ],
   "source": [
    "df[\"Bedroom2\"].fillna(3,inplace=True)"
   ]
  },
  {
   "cell_type": "code",
   "execution_count": 26,
   "id": "2bf9593c-7fa3-4528-b23d-d5f756dff2ad",
   "metadata": {},
   "outputs": [
    {
     "name": "stderr",
     "output_type": "stream",
     "text": [
      "C:\\Users\\HP\\AppData\\Local\\Temp\\ipykernel_3428\\2539153353.py:1: FutureWarning: A value is trying to be set on a copy of a DataFrame or Series through chained assignment using an inplace method.\n",
      "The behavior will change in pandas 3.0. This inplace method will never work because the intermediate object on which we are setting values always behaves as a copy.\n",
      "\n",
      "For example, when doing 'df[col].method(value, inplace=True)', try using 'df.method({col: value}, inplace=True)' or df[col] = df[col].method(value) instead, to perform the operation inplace on the original object.\n",
      "\n",
      "\n",
      "  df[\"Bathroom\"].fillna(2,inplace=True)\n"
     ]
    }
   ],
   "source": [
    "df[\"Bathroom\"].fillna(2,inplace=True)"
   ]
  },
  {
   "cell_type": "code",
   "execution_count": 27,
   "id": "a7dbffef-b229-41e9-9851-2a98410dc3f3",
   "metadata": {},
   "outputs": [
    {
     "data": {
      "text/plain": [
       "CouncilArea\n",
       "Boroondara City Council           3678\n",
       "Darebin City Council              2851\n",
       "Moreland City Council             2122\n",
       "Glen Eira City Council            2006\n",
       "Melbourne City Council            1952\n",
       "Banyule City Council              1861\n",
       "Moonee Valley City Council        1791\n",
       "Bayside City Council              1764\n",
       "Brimbank City Council             1593\n",
       "Monash City Council               1466\n",
       "Stonnington City Council          1460\n",
       "Maribyrnong City Council          1451\n",
       "Port Phillip City Council         1280\n",
       "Hume City Council                 1214\n",
       "Yarra City Council                1186\n",
       "Manningham City Council           1045\n",
       "Hobsons Bay City Council           942\n",
       "Kingston City Council              871\n",
       "Whittlesea City Council            828\n",
       "Wyndham City Council               624\n",
       "Whitehorse City Council            618\n",
       "Maroondah City Council             506\n",
       "Knox City Council                  371\n",
       "Greater Dandenong City Council     314\n",
       "Melton City Council                292\n",
       "Frankston City Council             290\n",
       "Casey City Council                 176\n",
       "Yarra Ranges Shire Council         102\n",
       "Nillumbik Shire Council             88\n",
       "Macedon Ranges Shire Council        46\n",
       "Cardinia Shire Council              41\n",
       "Mitchell Shire Council              20\n",
       "Moorabool Shire Council              7\n",
       "Name: count, dtype: int64"
      ]
     },
     "execution_count": 27,
     "metadata": {},
     "output_type": "execute_result"
    }
   ],
   "source": [
    "df[\"CouncilArea\"].value_counts()"
   ]
  },
  {
   "cell_type": "code",
   "execution_count": 28,
   "id": "296e8492-9683-4a3e-9a54-ea1e603cb35b",
   "metadata": {},
   "outputs": [
    {
     "data": {
      "text/plain": [
       "array(['Abbotsford', 'Airport West', 'Albert Park', 'Alphington',\n",
       "       'Altona', 'Altona North', 'Armadale', 'Ascot Vale', 'Ashburton',\n",
       "       'Ashwood', 'Avondale Heights', 'Balaclava', 'Balwyn',\n",
       "       'Balwyn North', 'Bentleigh', 'Bentleigh East', 'Box Hill',\n",
       "       'Braybrook', 'Brighton', 'Brighton East', 'Brunswick',\n",
       "       'Brunswick West', 'Bulleen', 'Burwood', 'Camberwell', 'Canterbury',\n",
       "       'Carlton North', 'Carnegie', 'Caulfield', 'Caulfield North',\n",
       "       'Caulfield South', 'Chadstone', 'Clifton Hill', 'Coburg',\n",
       "       'Coburg North', 'Collingwood', 'Doncaster', 'Eaglemont',\n",
       "       'Elsternwick', 'Elwood', 'Essendon', 'Essendon North', 'Fairfield',\n",
       "       'Fitzroy', 'Fitzroy North', 'Flemington', 'Footscray', 'Glen Iris',\n",
       "       'Glenroy', 'Gowanbrae', 'Hadfield', 'Hampton', 'Hampton East',\n",
       "       'Hawthorn', 'Heidelberg Heights', 'Heidelberg West', 'Hughesdale',\n",
       "       'Ivanhoe', 'Kealba', 'Keilor East', 'Kensington', 'Kew',\n",
       "       'Kew East', 'Kooyong', 'Maidstone', 'Malvern', 'Malvern East',\n",
       "       'Maribyrnong', 'Melbourne', 'Middle Park', 'Mont Albert',\n",
       "       'Moonee Ponds', 'Moorabbin', 'Newport', 'Niddrie',\n",
       "       'North Melbourne', 'Northcote', 'Oak Park', 'Oakleigh South',\n",
       "       'Parkville', 'Pascoe Vale', 'Port Melbourne', 'Prahran', 'Preston',\n",
       "       'Reservoir', 'Richmond', 'Rosanna', 'Seddon', 'South Melbourne',\n",
       "       'South Yarra', 'Southbank', 'Spotswood', 'St Kilda', 'Strathmore',\n",
       "       'Sunshine', 'Sunshine North', 'Sunshine West', 'Surrey Hills',\n",
       "       'Templestowe Lower', 'Thornbury', 'Toorak', 'Viewbank', 'Watsonia',\n",
       "       'West Melbourne', 'Williamstown', 'Williamstown North', 'Windsor',\n",
       "       'Yallambie', 'Yarraville', 'Aberfeldie', 'Bellfield',\n",
       "       'Brunswick East', 'Burnley', 'Campbellfield', 'Carlton',\n",
       "       'East Melbourne', 'Essendon West', 'Fawkner', 'Hawthorn East',\n",
       "       'Heidelberg', 'Ivanhoe East', 'Jacana', 'Kingsbury', 'Kingsville',\n",
       "       'Murrumbeena', 'Ormond', 'West Footscray', 'Albion', 'Brooklyn',\n",
       "       'Glen Huntly', 'Oakleigh', 'Ripponlea', 'Cremorne', 'Docklands',\n",
       "       'South Kingsville', 'Strathmore Heights', 'Travancore',\n",
       "       'Caulfield East', 'Seaholme', 'Keilor Park', 'Gardenvale',\n",
       "       'Princes Hill', 'Altona Meadows', 'Ardeer', 'Attwood', 'Bayswater',\n",
       "       'Bayswater North', 'Beaumaris', 'Berwick', 'Blackburn',\n",
       "       'Blackburn South', 'Boronia', 'Briar Hill', 'Broadmeadows',\n",
       "       'Bundoora', 'Burnside Heights', 'Burwood East', 'Cairnlea',\n",
       "       'Caroline Springs', 'Cheltenham', 'Clarinda', 'Clayton',\n",
       "       'Clyde North', 'Craigieburn', 'Cranbourne', 'Croydon',\n",
       "       'Croydon Hills', 'Croydon North', 'Dandenong', 'Dandenong North',\n",
       "       'Diamond Creek', 'Dingley Village', 'Doncaster East', 'Donvale',\n",
       "       'Doreen', 'Edithvale', 'Eltham', 'Eltham North', 'Emerald',\n",
       "       'Epping', 'Eumemmerring', 'Ferntree Gully', 'Forest Hill',\n",
       "       'Frankston', 'Frankston North', 'Frankston South', 'Gisborne',\n",
       "       'Gladstone Park', 'Glen Waverley', 'Greensborough', 'Greenvale',\n",
       "       'Hallam', 'Healesville', 'Heathmont', 'Highett', 'Hillside',\n",
       "       'Hoppers Crossing', 'Huntingdale', 'Keilor Downs', 'Keilor Lodge',\n",
       "       'Keysborough', 'Kings Park', 'Lalor', 'Lower Plenty', 'Lynbrook',\n",
       "       'MacLeod', 'Melton', 'Melton South', 'Melton West', 'Mentone',\n",
       "       'Mernda', 'Mickleham', 'Mill Park', 'Mitcham', 'Montmorency',\n",
       "       'Montrose', 'Mordialloc', 'Mount Waverley', 'Mulgrave',\n",
       "       'Narre Warren', 'Noble Park', 'Nunawading', 'Oakleigh East',\n",
       "       'Parkdale', 'Point Cook', 'Ringwood', 'Ringwood East', 'Rockbank',\n",
       "       'Rowville', 'Roxburgh Park', 'Sandringham', 'Seabrook', 'Seaford',\n",
       "       'Skye', 'South Morang', 'Springvale', 'Springvale South',\n",
       "       'St Albans', 'St Helena', 'Sunbury', 'Sydenham', 'Tarneit',\n",
       "       'Taylors Hill', 'Taylors Lakes', 'Tecoma', 'Templestowe',\n",
       "       'The Basin', 'Thomastown', 'Truganina', 'Tullamarine', 'Vermont',\n",
       "       'Vermont South', 'Wantirna', 'Wantirna South', 'Werribee',\n",
       "       'Werribee South', 'Westmeadows', 'Williams Landing', 'Wollert',\n",
       "       'Wyndham Vale', 'Aspendale', 'Black Rock', 'Blackburn North',\n",
       "       'Bonbeach', 'Carrum', 'Chelsea', 'Clayton South', 'Dallas',\n",
       "       'Delahey', 'Doveton', 'McKinnon', 'Mooroolbark', 'Pakenham',\n",
       "       'Ringwood North', 'Scoresby', 'Warrandyte', 'Watsonia North',\n",
       "       'Wattle Glen', 'Wheelers Hill', 'Albanvale', 'Aspendale Gardens',\n",
       "       'Belgrave', 'Carrum Downs', 'Cranbourne East', 'Cranbourne North',\n",
       "       'Deer Park', 'Heatherton', 'Kilsyth', 'Langwarrin', 'Notting Hill',\n",
       "       'Patterson Lakes', 'Riddells Creek', 'Beaconsfield Upper',\n",
       "       'Chelsea Heights', 'Chirnside Park', 'Coolaroo', 'Darley',\n",
       "       'Hampton Park', 'Keilor', 'Meadow Heights', 'Mount Evelyn',\n",
       "       'North Warrandyte', 'Sandhurst', 'Silvan', 'Wallan',\n",
       "       'Croydon South', 'Derrimut', 'Diggers Rest', 'Knoxfield', 'Upwey',\n",
       "       'Warranwood', 'Bacchus Marsh', 'Bullengarook', 'Deepdene',\n",
       "       'Hurstbridge', 'Kurunjang', 'Laverton', 'Lilydale', 'Wonga Park',\n",
       "       'Endeavour Hills', 'Officer', 'Olinda', 'Waterways',\n",
       "       'Beaconsfield', 'Yarra Glen', 'Brookfield', 'Lysterfield',\n",
       "       'Plenty', 'Whittlesea', 'Burnside', 'New Gisborne', 'Guys Hill',\n",
       "       'Plumpton', 'croydon', 'Monbulk', 'Avonsleigh', 'Wildwood',\n",
       "       'Gisborne South', 'Research', 'viewbank', 'Botanic Ridge', 'Bulla',\n",
       "       'Coldstream', 'Hopetoun Park', 'Cranbourne West', 'Eynesbury',\n",
       "       'Fawkner Lot', 'Ferny Creek', 'Wandin North', 'Kalkallo',\n",
       "       'Menzies Creek'], dtype=object)"
      ]
     },
     "execution_count": 28,
     "metadata": {},
     "output_type": "execute_result"
    }
   ],
   "source": [
    "df[\"Suburb\"].unique()"
   ]
  },
  {
   "cell_type": "code",
   "execution_count": 29,
   "id": "d1c3141a-54bf-41e5-8280-1d5d72acbadc",
   "metadata": {},
   "outputs": [
    {
     "data": {
      "text/plain": [
       "array(['Jellis', 'Biggin', 'Rounds', 'Nelson', 'Collins', 'Dingle',\n",
       "       'Purplebricks', 'Greg', 'Philip', 'LITTLE', 'Kay', 'Beller',\n",
       "       'Marshall', 'hockingstuart', 'Brad', 'Maddison', 'Barry',\n",
       "       'Airport', 'Considine', 'Rendina', 'Ray', 'Propertyau', 'McDonald',\n",
       "       'Frank', 'Prof.', 'Harcourts', 'Thomson', 'Buxton', 'RT',\n",
       "       \"Sotheby's\", 'Cayzer', 'Chisholm', 'McGrath', 'Brace', 'Miles',\n",
       "       'Holland', 'Love', 'Thomas', 'Barlow', 'Sweeney', 'Village', 'Jas',\n",
       "       'Williams', 'Gunn&Co', 'Burnham', 'Point', 'Compton', 'FN',\n",
       "       'Hunter', 'Raine&Horne', 'Noel', 'Hodges', 'Gary', 'Fletchers',\n",
       "       'Woodards', 'Raine', 'Alexkarbon', 'Walshe', 'Weda', 'Stockdale',\n",
       "       'Tim', 'Buxton/Marshall', 'AIME', 'Moonee', 'HAR', 'Edward', 'RW',\n",
       "       'North', 'MICM', 'Ascend', 'Christopher', 'Morrison', 'Bekdon',\n",
       "       'Mandy', 'R&H', 'Fletchers/One', 'Lindellas', 'Appleby', 'Assisi',\n",
       "       'One', 'Owen', 'Parkes', 'C21', 'Century', \"O'Brien\", 'Bayside',\n",
       "       'Anderson', 'Paul', 'hockingstuart/Buxton', 'Smart', 'First',\n",
       "       'Matthew', 'Melbourne', 'Nick', 'Allens', 'Bells', 'Nguyen',\n",
       "       'Trimson', 'Douglas', 'Batty', 'GL', 'YPA', \"Tiernan's\", 'J',\n",
       "       'Castran', 'Branon', 'Rodney', 'Joseph', 'Harrington', 'Galldon',\n",
       "       'Grantham', 'Chambers', 'Pagan', 'Peter',\n",
       "       'hockingstuart/Advantage', 'Ross', 'Rayner', 'Garvey',\n",
       "       \"O'Donoghues\", 'Hamilton', 'Weast', 'Kelly', 'Property',\n",
       "       \"Private/Tiernan's\", 'Australian', 'Bustin', \"Abercromby's\",\n",
       "       'Whiting', 'iTRAK', 'Del', 'Caine', 'Nicholson', 'JMRE', 'ASL',\n",
       "       'Changing', 'Re', 'RE', 'Walsh', 'Foxtons', 'Ham', 'Darren', 'Vic',\n",
       "       'Haughton', 'Scott', 'Pride', 'Morleys', 'Wilson',\n",
       "       'Buxton/Advantage', 'Professionals', 'Joe', 'Red',\n",
       "       'hockingstuart/Jellis', 'Craig', 'Naison', 'Sweeney/Advantage',\n",
       "       'Reach', 'Domain', 'Eview', 'Jason', \"D'Aprano\", 'Charlton',\n",
       "       'CASTRAN', 'Wood', 'William', 'Coventry', 'Buckingham', 'Nardella',\n",
       "       'Karen', 'LJ', 'Shape', 'Direct', 'Fletchers/Fletchers', 'Besser',\n",
       "       'Johnston', 'Avion', 'Redina', 'Clairmont', 'Lucas', 'Dixon',\n",
       "       'Xynergy', 'Elite', 'Buxton/Find', 'W.B.', 'Leased',\n",
       "       'Harcourts/Barry', 'Win', 'Collings', 'New', 'Parkinson', 'Geoff',\n",
       "       'hockingstuart/Barry', 'Blue', 'MSM', 'Steveway',\n",
       "       'hockingstuart/Village', 'VICPROP', 'Inner', 'Meadows', 'Allan',\n",
       "       'S&L', 'Crane', 'Calder', 'Metro', 'Homes', 'Zahn', 'Mason',\n",
       "       'Landfield', 'David', 'Luxe', 'Prowse', 'Ken', 'Rombotis', 'iOne',\n",
       "       'hockingstuart/Sweeney', 'Iconek', 'Luxton', 'Hooper', 'JRW',\n",
       "       'Oak', 'White', 'Jim', 'Weston', '@Realty', 'Reed', 'Oriental',\n",
       "       'Max', 'Steller', 'Rosin', 'Real', 'Jeffrey', 'Hall', 'Icon',\n",
       "       'buyMyplace', 'WHITEFOX', 'Christou', 'Marvelli', \"Grant's\",\n",
       "       'Hoskins', 'Gardiner', 'McLennan', 'Triwest', 'Reliance',\n",
       "       'PRDNationwide', 'Only', 'Leyton', 'iSell', 'Obrien', 'Maitland',\n",
       "       'Millership', 'L', 'Emerson', 'Follett', 'Ash', 'LLC', 'Ace',\n",
       "       'Flannagan', 'Carter', 'WeSell', 'M.J', 'iProperty',\n",
       "       'Hayeswinckle', 'Schroeder', 'iHomes', 'VICProp', 'REMAX', 'Space',\n",
       "       'Victory', 'Aumeca', 'Mindacom', 'Ryder', 'Sanctuary', 'Leeburn',\n",
       "       'Asset', 'Westside', 'Sell', 'Mitchell', 'Darras', 'U', 'Nicholas',\n",
       "       'Rexhepi', 'Keatings', 'Aquire', 'Conquest', 'Prime', 'Donovan',\n",
       "       'Community', 'Free', 'Veitch', 'John', 'Peake', 'Ristic', 'JY',\n",
       "       'Upper', 'Daniel', 'VicHomes', 'TRUE', 'McNaughton', 'Leading',\n",
       "       'Bullen', 'Better', 'Boutique', 'Royston', 'Langwell', 'Silver',\n",
       "       'Wyndham', 'Kaye', 'Nicholls', 'Bowman', 'Just', 'Home', 'Le',\n",
       "       'Cooper', 'Black', 'The', 'Open', 'Roger', 'McEwing', 'Sandhurst',\n",
       "       'Boran', 'hockingstuart/hockingstuart', 'Area', 'MJ', 'Eric', 'SN',\n",
       "       'Waterfront', 'P', 'PRD', 'Bombay', 'Quinta', 'T', 'Tanner', 'LJH',\n",
       "       'Munn', 'Knight', 'Justin', 'Blackbird', 'Sweeney/Burnham', 'H',\n",
       "       'Alex', 'Can', 'Pavilion', 'Benchmark', 'Gellibrand',\n",
       "       'hockingstuart/Harcourts', 'Charter', 'Surreal', 'Vicprop', 'A',\n",
       "       'Upside', 'OBrien', 'Meallin', 'Malvern', 'Mark', 'Bradly', 'For',\n",
       "       'Peninsula', 'Sutherland', 'Leaders', 'Spencer',\n",
       "       'McGrath/Langwell', 'Benlor', 'Burns', 'Sterling', 'K.R.Peters',\n",
       "       'Buxton/Buxton', 'CarlinSmith', 'Gold', 'Hill', 'People',\n",
       "       'hockingstuart/Biggin', 'Mega', 'Skad', 'Ruralco', 'Create',\n",
       "       'Janice', 'R', 'G&H', 'Commercial', 'PSP', 'hockingstuart/Cayzer',\n",
       "       'Unity', 'Sprint', 'McGrath/Buxton', 'hockingstuart/Marshall',\n",
       "       'McGrath/First', 'voglwalpole', 'Watermark', 'Methven'],\n",
       "      dtype=object)"
      ]
     },
     "execution_count": 29,
     "metadata": {},
     "output_type": "execute_result"
    }
   ],
   "source": [
    "df[\"SellerG\"].unique()"
   ]
  },
  {
   "cell_type": "code",
   "execution_count": 30,
   "id": "9974072a-3b4d-40c2-8d0d-9b4eb1d8ba93",
   "metadata": {},
   "outputs": [
    {
     "data": {
      "text/plain": [
       "array(['Northern Metropolitan', 'Western Metropolitan',\n",
       "       'Southern Metropolitan', 'Eastern Metropolitan',\n",
       "       'South-Eastern Metropolitan', 'Eastern Victoria',\n",
       "       'Northern Victoria', 'Western Victoria'], dtype=object)"
      ]
     },
     "execution_count": 30,
     "metadata": {},
     "output_type": "execute_result"
    }
   ],
   "source": [
    "df[\"Regionname\"].unique()"
   ]
  },
  {
   "cell_type": "markdown",
   "id": "013efd2c-6885-483d-bdcd-fc853d110398",
   "metadata": {},
   "source": [
    "# Encoding"
   ]
  },
  {
   "cell_type": "code",
   "execution_count": 31,
   "id": "f78e5995-04ff-4776-9c91-6fa655948eff",
   "metadata": {},
   "outputs": [],
   "source": [
    "from sklearn.preprocessing import LabelEncoder\n",
    "en=LabelEncoder()"
   ]
  },
  {
   "cell_type": "code",
   "execution_count": 32,
   "id": "06f414a2-8ec3-4043-ad0c-b4c5790a36c1",
   "metadata": {},
   "outputs": [],
   "source": [
    "df[[\"Suburb\",\"SellerG\",\"CouncilArea\",\"Type\",\"Regionname\",\"Method\"]]=df[[\"Suburb\",\"SellerG\",\"CouncilArea\",\"Type\",\"Regionname\",\"Method\"]].apply(en.fit_transform)"
   ]
  },
  {
   "cell_type": "code",
   "execution_count": 33,
   "id": "d2dc3797-cdf9-450c-a49c-53447f9fe971",
   "metadata": {},
   "outputs": [
    {
     "data": {
      "text/html": [
       "<div>\n",
       "<style scoped>\n",
       "    .dataframe tbody tr th:only-of-type {\n",
       "        vertical-align: middle;\n",
       "    }\n",
       "\n",
       "    .dataframe tbody tr th {\n",
       "        vertical-align: top;\n",
       "    }\n",
       "\n",
       "    .dataframe thead th {\n",
       "        text-align: right;\n",
       "    }\n",
       "</style>\n",
       "<table border=\"1\" class=\"dataframe\">\n",
       "  <thead>\n",
       "    <tr style=\"text-align: right;\">\n",
       "      <th></th>\n",
       "      <th>Suburb</th>\n",
       "      <th>Rooms</th>\n",
       "      <th>Type</th>\n",
       "      <th>Price</th>\n",
       "      <th>Method</th>\n",
       "      <th>SellerG</th>\n",
       "      <th>Distance</th>\n",
       "      <th>Bedroom2</th>\n",
       "      <th>Bathroom</th>\n",
       "      <th>Car</th>\n",
       "      <th>Landsize</th>\n",
       "      <th>BuildingArea</th>\n",
       "      <th>CouncilArea</th>\n",
       "      <th>Regionname</th>\n",
       "      <th>Propertycount</th>\n",
       "    </tr>\n",
       "  </thead>\n",
       "  <tbody>\n",
       "    <tr>\n",
       "      <th>0</th>\n",
       "      <td>0</td>\n",
       "      <td>2</td>\n",
       "      <td>0</td>\n",
       "      <td>1050173.0</td>\n",
       "      <td>6</td>\n",
       "      <td>155</td>\n",
       "      <td>2.5</td>\n",
       "      <td>2.0</td>\n",
       "      <td>1.0</td>\n",
       "      <td>1.0</td>\n",
       "      <td>126.0</td>\n",
       "      <td>136.0</td>\n",
       "      <td>31</td>\n",
       "      <td>2</td>\n",
       "      <td>4019.0</td>\n",
       "    </tr>\n",
       "  </tbody>\n",
       "</table>\n",
       "</div>"
      ],
      "text/plain": [
       "   Suburb  Rooms  Type      Price  Method  SellerG  Distance  Bedroom2  \\\n",
       "0       0      2     0  1050173.0       6      155       2.5       2.0   \n",
       "\n",
       "   Bathroom  Car  Landsize  BuildingArea  CouncilArea  Regionname  \\\n",
       "0       1.0  1.0     126.0         136.0           31           2   \n",
       "\n",
       "   Propertycount  \n",
       "0         4019.0  "
      ]
     },
     "execution_count": 33,
     "metadata": {},
     "output_type": "execute_result"
    }
   ],
   "source": [
    "df.head(1)"
   ]
  },
  {
   "cell_type": "code",
   "execution_count": 34,
   "id": "779e9d49-c03f-4227-9b67-dede2811e22d",
   "metadata": {},
   "outputs": [
    {
     "data": {
      "text/plain": [
       "array([2, 6, 5, 0, 4, 1, 3, 7])"
      ]
     },
     "execution_count": 34,
     "metadata": {},
     "output_type": "execute_result"
    }
   ],
   "source": [
    "df[\"Regionname\"].unique()"
   ]
  },
  {
   "cell_type": "code",
   "execution_count": 35,
   "id": "3c50affb-e267-4da3-a420-95401a9bee8a",
   "metadata": {},
   "outputs": [
    {
     "data": {
      "text/plain": [
       "array([6, 2, 7, 5, 0, 4, 8, 1, 3])"
      ]
     },
     "execution_count": 35,
     "metadata": {},
     "output_type": "execute_result"
    }
   ],
   "source": [
    "df[\"Method\"].unique()"
   ]
  },
  {
   "cell_type": "code",
   "execution_count": 36,
   "id": "5b5f8b66-4cf7-4331-b2eb-67d130ba69b4",
   "metadata": {},
   "outputs": [
    {
     "data": {
      "text/plain": [
       "(34856, 15)"
      ]
     },
     "execution_count": 36,
     "metadata": {},
     "output_type": "execute_result"
    }
   ],
   "source": [
    "df.shape"
   ]
  },
  {
   "cell_type": "code",
   "execution_count": 37,
   "id": "23cfea79-9dbb-43b9-9adb-779a0e976d35",
   "metadata": {},
   "outputs": [
    {
     "data": {
      "text/plain": [
       "array([0, 2, 1])"
      ]
     },
     "execution_count": 37,
     "metadata": {},
     "output_type": "execute_result"
    }
   ],
   "source": [
    "df[\"Type\"].unique()"
   ]
  },
  {
   "cell_type": "code",
   "execution_count": null,
   "id": "efdfc5ca-b7da-485a-8dbf-33d186dd4085",
   "metadata": {},
   "outputs": [],
   "source": []
  },
  {
   "cell_type": "code",
   "execution_count": null,
   "id": "6503808a-ae15-4145-b704-b6de4003f1be",
   "metadata": {},
   "outputs": [],
   "source": []
  },
  {
   "cell_type": "markdown",
   "id": "0030e749-20d7-43e5-9449-594e688cc86b",
   "metadata": {},
   "source": [
    "# linear regression"
   ]
  },
  {
   "cell_type": "code",
   "execution_count": 38,
   "id": "c1865d6a-fcf2-4afd-bfba-71fc9995ac0e",
   "metadata": {},
   "outputs": [],
   "source": [
    "from sklearn.model_selection import train_test_split\n",
    "from sklearn.linear_model import LinearRegression\n",
    "from sklearn .metrics import r2_score,accuracy_score,mean_absolute_error,mean_squared_error"
   ]
  },
  {
   "cell_type": "code",
   "execution_count": 39,
   "id": "a13d92fc-b72b-4af2-8b87-f8d39ff4a136",
   "metadata": {},
   "outputs": [],
   "source": [
    "x=df.drop([\"Price\"],axis=1)"
   ]
  },
  {
   "cell_type": "code",
   "execution_count": 40,
   "id": "b80d6e10-c0d9-4229-9b68-0c418db222df",
   "metadata": {},
   "outputs": [],
   "source": [
    "y=df[\"Price\"]"
   ]
  },
  {
   "cell_type": "code",
   "execution_count": 41,
   "id": "98321626-86c0-470e-a313-135afe53ad1a",
   "metadata": {},
   "outputs": [
    {
     "data": {
      "text/html": [
       "<div>\n",
       "<style scoped>\n",
       "    .dataframe tbody tr th:only-of-type {\n",
       "        vertical-align: middle;\n",
       "    }\n",
       "\n",
       "    .dataframe tbody tr th {\n",
       "        vertical-align: top;\n",
       "    }\n",
       "\n",
       "    .dataframe thead th {\n",
       "        text-align: right;\n",
       "    }\n",
       "</style>\n",
       "<table border=\"1\" class=\"dataframe\">\n",
       "  <thead>\n",
       "    <tr style=\"text-align: right;\">\n",
       "      <th></th>\n",
       "      <th>Suburb</th>\n",
       "      <th>Rooms</th>\n",
       "      <th>Type</th>\n",
       "      <th>Method</th>\n",
       "      <th>SellerG</th>\n",
       "      <th>Distance</th>\n",
       "      <th>Bedroom2</th>\n",
       "      <th>Bathroom</th>\n",
       "      <th>Car</th>\n",
       "      <th>Landsize</th>\n",
       "      <th>BuildingArea</th>\n",
       "      <th>CouncilArea</th>\n",
       "      <th>Regionname</th>\n",
       "      <th>Propertycount</th>\n",
       "    </tr>\n",
       "  </thead>\n",
       "  <tbody>\n",
       "    <tr>\n",
       "      <th>0</th>\n",
       "      <td>0</td>\n",
       "      <td>2</td>\n",
       "      <td>0</td>\n",
       "      <td>6</td>\n",
       "      <td>155</td>\n",
       "      <td>2.5</td>\n",
       "      <td>2.0</td>\n",
       "      <td>1.0</td>\n",
       "      <td>1.0</td>\n",
       "      <td>126.0</td>\n",
       "      <td>136.0</td>\n",
       "      <td>31</td>\n",
       "      <td>2</td>\n",
       "      <td>4019.0</td>\n",
       "    </tr>\n",
       "  </tbody>\n",
       "</table>\n",
       "</div>"
      ],
      "text/plain": [
       "   Suburb  Rooms  Type  Method  SellerG  Distance  Bedroom2  Bathroom  Car  \\\n",
       "0       0      2     0       6      155       2.5       2.0       1.0  1.0   \n",
       "\n",
       "   Landsize  BuildingArea  CouncilArea  Regionname  Propertycount  \n",
       "0     126.0         136.0           31           2         4019.0  "
      ]
     },
     "execution_count": 41,
     "metadata": {},
     "output_type": "execute_result"
    }
   ],
   "source": [
    "x.head(1)"
   ]
  },
  {
   "cell_type": "code",
   "execution_count": 42,
   "id": "d5161bc5-ac4b-487f-be27-e5cfa5d5eb7f",
   "metadata": {},
   "outputs": [
    {
     "data": {
      "text/plain": [
       "0    1050173.0\n",
       "Name: Price, dtype: float64"
      ]
     },
     "execution_count": 42,
     "metadata": {},
     "output_type": "execute_result"
    }
   ],
   "source": [
    "y.head(1)"
   ]
  },
  {
   "cell_type": "code",
   "execution_count": 43,
   "id": "17b8b2b8-bf6f-47a4-8e46-e800803c0a7c",
   "metadata": {},
   "outputs": [],
   "source": [
    "x_train,x_test,y_train,y_test=train_test_split(x,y,train_size=0.2,random_state=21)"
   ]
  },
  {
   "cell_type": "code",
   "execution_count": 44,
   "id": "743ff934-418c-424c-80ba-8b77042b860a",
   "metadata": {},
   "outputs": [
    {
     "data": {
      "text/html": [
       "<style>#sk-container-id-1 {\n",
       "  /* Definition of color scheme common for light and dark mode */\n",
       "  --sklearn-color-text: black;\n",
       "  --sklearn-color-line: gray;\n",
       "  /* Definition of color scheme for unfitted estimators */\n",
       "  --sklearn-color-unfitted-level-0: #fff5e6;\n",
       "  --sklearn-color-unfitted-level-1: #f6e4d2;\n",
       "  --sklearn-color-unfitted-level-2: #ffe0b3;\n",
       "  --sklearn-color-unfitted-level-3: chocolate;\n",
       "  /* Definition of color scheme for fitted estimators */\n",
       "  --sklearn-color-fitted-level-0: #f0f8ff;\n",
       "  --sklearn-color-fitted-level-1: #d4ebff;\n",
       "  --sklearn-color-fitted-level-2: #b3dbfd;\n",
       "  --sklearn-color-fitted-level-3: cornflowerblue;\n",
       "\n",
       "  /* Specific color for light theme */\n",
       "  --sklearn-color-text-on-default-background: var(--sg-text-color, var(--theme-code-foreground, var(--jp-content-font-color1, black)));\n",
       "  --sklearn-color-background: var(--sg-background-color, var(--theme-background, var(--jp-layout-color0, white)));\n",
       "  --sklearn-color-border-box: var(--sg-text-color, var(--theme-code-foreground, var(--jp-content-font-color1, black)));\n",
       "  --sklearn-color-icon: #696969;\n",
       "\n",
       "  @media (prefers-color-scheme: dark) {\n",
       "    /* Redefinition of color scheme for dark theme */\n",
       "    --sklearn-color-text-on-default-background: var(--sg-text-color, var(--theme-code-foreground, var(--jp-content-font-color1, white)));\n",
       "    --sklearn-color-background: var(--sg-background-color, var(--theme-background, var(--jp-layout-color0, #111)));\n",
       "    --sklearn-color-border-box: var(--sg-text-color, var(--theme-code-foreground, var(--jp-content-font-color1, white)));\n",
       "    --sklearn-color-icon: #878787;\n",
       "  }\n",
       "}\n",
       "\n",
       "#sk-container-id-1 {\n",
       "  color: var(--sklearn-color-text);\n",
       "}\n",
       "\n",
       "#sk-container-id-1 pre {\n",
       "  padding: 0;\n",
       "}\n",
       "\n",
       "#sk-container-id-1 input.sk-hidden--visually {\n",
       "  border: 0;\n",
       "  clip: rect(1px 1px 1px 1px);\n",
       "  clip: rect(1px, 1px, 1px, 1px);\n",
       "  height: 1px;\n",
       "  margin: -1px;\n",
       "  overflow: hidden;\n",
       "  padding: 0;\n",
       "  position: absolute;\n",
       "  width: 1px;\n",
       "}\n",
       "\n",
       "#sk-container-id-1 div.sk-dashed-wrapped {\n",
       "  border: 1px dashed var(--sklearn-color-line);\n",
       "  margin: 0 0.4em 0.5em 0.4em;\n",
       "  box-sizing: border-box;\n",
       "  padding-bottom: 0.4em;\n",
       "  background-color: var(--sklearn-color-background);\n",
       "}\n",
       "\n",
       "#sk-container-id-1 div.sk-container {\n",
       "  /* jupyter's `normalize.less` sets `[hidden] { display: none; }`\n",
       "     but bootstrap.min.css set `[hidden] { display: none !important; }`\n",
       "     so we also need the `!important` here to be able to override the\n",
       "     default hidden behavior on the sphinx rendered scikit-learn.org.\n",
       "     See: https://github.com/scikit-learn/scikit-learn/issues/21755 */\n",
       "  display: inline-block !important;\n",
       "  position: relative;\n",
       "}\n",
       "\n",
       "#sk-container-id-1 div.sk-text-repr-fallback {\n",
       "  display: none;\n",
       "}\n",
       "\n",
       "div.sk-parallel-item,\n",
       "div.sk-serial,\n",
       "div.sk-item {\n",
       "  /* draw centered vertical line to link estimators */\n",
       "  background-image: linear-gradient(var(--sklearn-color-text-on-default-background), var(--sklearn-color-text-on-default-background));\n",
       "  background-size: 2px 100%;\n",
       "  background-repeat: no-repeat;\n",
       "  background-position: center center;\n",
       "}\n",
       "\n",
       "/* Parallel-specific style estimator block */\n",
       "\n",
       "#sk-container-id-1 div.sk-parallel-item::after {\n",
       "  content: \"\";\n",
       "  width: 100%;\n",
       "  border-bottom: 2px solid var(--sklearn-color-text-on-default-background);\n",
       "  flex-grow: 1;\n",
       "}\n",
       "\n",
       "#sk-container-id-1 div.sk-parallel {\n",
       "  display: flex;\n",
       "  align-items: stretch;\n",
       "  justify-content: center;\n",
       "  background-color: var(--sklearn-color-background);\n",
       "  position: relative;\n",
       "}\n",
       "\n",
       "#sk-container-id-1 div.sk-parallel-item {\n",
       "  display: flex;\n",
       "  flex-direction: column;\n",
       "}\n",
       "\n",
       "#sk-container-id-1 div.sk-parallel-item:first-child::after {\n",
       "  align-self: flex-end;\n",
       "  width: 50%;\n",
       "}\n",
       "\n",
       "#sk-container-id-1 div.sk-parallel-item:last-child::after {\n",
       "  align-self: flex-start;\n",
       "  width: 50%;\n",
       "}\n",
       "\n",
       "#sk-container-id-1 div.sk-parallel-item:only-child::after {\n",
       "  width: 0;\n",
       "}\n",
       "\n",
       "/* Serial-specific style estimator block */\n",
       "\n",
       "#sk-container-id-1 div.sk-serial {\n",
       "  display: flex;\n",
       "  flex-direction: column;\n",
       "  align-items: center;\n",
       "  background-color: var(--sklearn-color-background);\n",
       "  padding-right: 1em;\n",
       "  padding-left: 1em;\n",
       "}\n",
       "\n",
       "\n",
       "/* Toggleable style: style used for estimator/Pipeline/ColumnTransformer box that is\n",
       "clickable and can be expanded/collapsed.\n",
       "- Pipeline and ColumnTransformer use this feature and define the default style\n",
       "- Estimators will overwrite some part of the style using the `sk-estimator` class\n",
       "*/\n",
       "\n",
       "/* Pipeline and ColumnTransformer style (default) */\n",
       "\n",
       "#sk-container-id-1 div.sk-toggleable {\n",
       "  /* Default theme specific background. It is overwritten whether we have a\n",
       "  specific estimator or a Pipeline/ColumnTransformer */\n",
       "  background-color: var(--sklearn-color-background);\n",
       "}\n",
       "\n",
       "/* Toggleable label */\n",
       "#sk-container-id-1 label.sk-toggleable__label {\n",
       "  cursor: pointer;\n",
       "  display: block;\n",
       "  width: 100%;\n",
       "  margin-bottom: 0;\n",
       "  padding: 0.5em;\n",
       "  box-sizing: border-box;\n",
       "  text-align: center;\n",
       "}\n",
       "\n",
       "#sk-container-id-1 label.sk-toggleable__label-arrow:before {\n",
       "  /* Arrow on the left of the label */\n",
       "  content: \"▸\";\n",
       "  float: left;\n",
       "  margin-right: 0.25em;\n",
       "  color: var(--sklearn-color-icon);\n",
       "}\n",
       "\n",
       "#sk-container-id-1 label.sk-toggleable__label-arrow:hover:before {\n",
       "  color: var(--sklearn-color-text);\n",
       "}\n",
       "\n",
       "/* Toggleable content - dropdown */\n",
       "\n",
       "#sk-container-id-1 div.sk-toggleable__content {\n",
       "  max-height: 0;\n",
       "  max-width: 0;\n",
       "  overflow: hidden;\n",
       "  text-align: left;\n",
       "  /* unfitted */\n",
       "  background-color: var(--sklearn-color-unfitted-level-0);\n",
       "}\n",
       "\n",
       "#sk-container-id-1 div.sk-toggleable__content.fitted {\n",
       "  /* fitted */\n",
       "  background-color: var(--sklearn-color-fitted-level-0);\n",
       "}\n",
       "\n",
       "#sk-container-id-1 div.sk-toggleable__content pre {\n",
       "  margin: 0.2em;\n",
       "  border-radius: 0.25em;\n",
       "  color: var(--sklearn-color-text);\n",
       "  /* unfitted */\n",
       "  background-color: var(--sklearn-color-unfitted-level-0);\n",
       "}\n",
       "\n",
       "#sk-container-id-1 div.sk-toggleable__content.fitted pre {\n",
       "  /* unfitted */\n",
       "  background-color: var(--sklearn-color-fitted-level-0);\n",
       "}\n",
       "\n",
       "#sk-container-id-1 input.sk-toggleable__control:checked~div.sk-toggleable__content {\n",
       "  /* Expand drop-down */\n",
       "  max-height: 200px;\n",
       "  max-width: 100%;\n",
       "  overflow: auto;\n",
       "}\n",
       "\n",
       "#sk-container-id-1 input.sk-toggleable__control:checked~label.sk-toggleable__label-arrow:before {\n",
       "  content: \"▾\";\n",
       "}\n",
       "\n",
       "/* Pipeline/ColumnTransformer-specific style */\n",
       "\n",
       "#sk-container-id-1 div.sk-label input.sk-toggleable__control:checked~label.sk-toggleable__label {\n",
       "  color: var(--sklearn-color-text);\n",
       "  background-color: var(--sklearn-color-unfitted-level-2);\n",
       "}\n",
       "\n",
       "#sk-container-id-1 div.sk-label.fitted input.sk-toggleable__control:checked~label.sk-toggleable__label {\n",
       "  background-color: var(--sklearn-color-fitted-level-2);\n",
       "}\n",
       "\n",
       "/* Estimator-specific style */\n",
       "\n",
       "/* Colorize estimator box */\n",
       "#sk-container-id-1 div.sk-estimator input.sk-toggleable__control:checked~label.sk-toggleable__label {\n",
       "  /* unfitted */\n",
       "  background-color: var(--sklearn-color-unfitted-level-2);\n",
       "}\n",
       "\n",
       "#sk-container-id-1 div.sk-estimator.fitted input.sk-toggleable__control:checked~label.sk-toggleable__label {\n",
       "  /* fitted */\n",
       "  background-color: var(--sklearn-color-fitted-level-2);\n",
       "}\n",
       "\n",
       "#sk-container-id-1 div.sk-label label.sk-toggleable__label,\n",
       "#sk-container-id-1 div.sk-label label {\n",
       "  /* The background is the default theme color */\n",
       "  color: var(--sklearn-color-text-on-default-background);\n",
       "}\n",
       "\n",
       "/* On hover, darken the color of the background */\n",
       "#sk-container-id-1 div.sk-label:hover label.sk-toggleable__label {\n",
       "  color: var(--sklearn-color-text);\n",
       "  background-color: var(--sklearn-color-unfitted-level-2);\n",
       "}\n",
       "\n",
       "/* Label box, darken color on hover, fitted */\n",
       "#sk-container-id-1 div.sk-label.fitted:hover label.sk-toggleable__label.fitted {\n",
       "  color: var(--sklearn-color-text);\n",
       "  background-color: var(--sklearn-color-fitted-level-2);\n",
       "}\n",
       "\n",
       "/* Estimator label */\n",
       "\n",
       "#sk-container-id-1 div.sk-label label {\n",
       "  font-family: monospace;\n",
       "  font-weight: bold;\n",
       "  display: inline-block;\n",
       "  line-height: 1.2em;\n",
       "}\n",
       "\n",
       "#sk-container-id-1 div.sk-label-container {\n",
       "  text-align: center;\n",
       "}\n",
       "\n",
       "/* Estimator-specific */\n",
       "#sk-container-id-1 div.sk-estimator {\n",
       "  font-family: monospace;\n",
       "  border: 1px dotted var(--sklearn-color-border-box);\n",
       "  border-radius: 0.25em;\n",
       "  box-sizing: border-box;\n",
       "  margin-bottom: 0.5em;\n",
       "  /* unfitted */\n",
       "  background-color: var(--sklearn-color-unfitted-level-0);\n",
       "}\n",
       "\n",
       "#sk-container-id-1 div.sk-estimator.fitted {\n",
       "  /* fitted */\n",
       "  background-color: var(--sklearn-color-fitted-level-0);\n",
       "}\n",
       "\n",
       "/* on hover */\n",
       "#sk-container-id-1 div.sk-estimator:hover {\n",
       "  /* unfitted */\n",
       "  background-color: var(--sklearn-color-unfitted-level-2);\n",
       "}\n",
       "\n",
       "#sk-container-id-1 div.sk-estimator.fitted:hover {\n",
       "  /* fitted */\n",
       "  background-color: var(--sklearn-color-fitted-level-2);\n",
       "}\n",
       "\n",
       "/* Specification for estimator info (e.g. \"i\" and \"?\") */\n",
       "\n",
       "/* Common style for \"i\" and \"?\" */\n",
       "\n",
       ".sk-estimator-doc-link,\n",
       "a:link.sk-estimator-doc-link,\n",
       "a:visited.sk-estimator-doc-link {\n",
       "  float: right;\n",
       "  font-size: smaller;\n",
       "  line-height: 1em;\n",
       "  font-family: monospace;\n",
       "  background-color: var(--sklearn-color-background);\n",
       "  border-radius: 1em;\n",
       "  height: 1em;\n",
       "  width: 1em;\n",
       "  text-decoration: none !important;\n",
       "  margin-left: 1ex;\n",
       "  /* unfitted */\n",
       "  border: var(--sklearn-color-unfitted-level-1) 1pt solid;\n",
       "  color: var(--sklearn-color-unfitted-level-1);\n",
       "}\n",
       "\n",
       ".sk-estimator-doc-link.fitted,\n",
       "a:link.sk-estimator-doc-link.fitted,\n",
       "a:visited.sk-estimator-doc-link.fitted {\n",
       "  /* fitted */\n",
       "  border: var(--sklearn-color-fitted-level-1) 1pt solid;\n",
       "  color: var(--sklearn-color-fitted-level-1);\n",
       "}\n",
       "\n",
       "/* On hover */\n",
       "div.sk-estimator:hover .sk-estimator-doc-link:hover,\n",
       ".sk-estimator-doc-link:hover,\n",
       "div.sk-label-container:hover .sk-estimator-doc-link:hover,\n",
       ".sk-estimator-doc-link:hover {\n",
       "  /* unfitted */\n",
       "  background-color: var(--sklearn-color-unfitted-level-3);\n",
       "  color: var(--sklearn-color-background);\n",
       "  text-decoration: none;\n",
       "}\n",
       "\n",
       "div.sk-estimator.fitted:hover .sk-estimator-doc-link.fitted:hover,\n",
       ".sk-estimator-doc-link.fitted:hover,\n",
       "div.sk-label-container:hover .sk-estimator-doc-link.fitted:hover,\n",
       ".sk-estimator-doc-link.fitted:hover {\n",
       "  /* fitted */\n",
       "  background-color: var(--sklearn-color-fitted-level-3);\n",
       "  color: var(--sklearn-color-background);\n",
       "  text-decoration: none;\n",
       "}\n",
       "\n",
       "/* Span, style for the box shown on hovering the info icon */\n",
       ".sk-estimator-doc-link span {\n",
       "  display: none;\n",
       "  z-index: 9999;\n",
       "  position: relative;\n",
       "  font-weight: normal;\n",
       "  right: .2ex;\n",
       "  padding: .5ex;\n",
       "  margin: .5ex;\n",
       "  width: min-content;\n",
       "  min-width: 20ex;\n",
       "  max-width: 50ex;\n",
       "  color: var(--sklearn-color-text);\n",
       "  box-shadow: 2pt 2pt 4pt #999;\n",
       "  /* unfitted */\n",
       "  background: var(--sklearn-color-unfitted-level-0);\n",
       "  border: .5pt solid var(--sklearn-color-unfitted-level-3);\n",
       "}\n",
       "\n",
       ".sk-estimator-doc-link.fitted span {\n",
       "  /* fitted */\n",
       "  background: var(--sklearn-color-fitted-level-0);\n",
       "  border: var(--sklearn-color-fitted-level-3);\n",
       "}\n",
       "\n",
       ".sk-estimator-doc-link:hover span {\n",
       "  display: block;\n",
       "}\n",
       "\n",
       "/* \"?\"-specific style due to the `<a>` HTML tag */\n",
       "\n",
       "#sk-container-id-1 a.estimator_doc_link {\n",
       "  float: right;\n",
       "  font-size: 1rem;\n",
       "  line-height: 1em;\n",
       "  font-family: monospace;\n",
       "  background-color: var(--sklearn-color-background);\n",
       "  border-radius: 1rem;\n",
       "  height: 1rem;\n",
       "  width: 1rem;\n",
       "  text-decoration: none;\n",
       "  /* unfitted */\n",
       "  color: var(--sklearn-color-unfitted-level-1);\n",
       "  border: var(--sklearn-color-unfitted-level-1) 1pt solid;\n",
       "}\n",
       "\n",
       "#sk-container-id-1 a.estimator_doc_link.fitted {\n",
       "  /* fitted */\n",
       "  border: var(--sklearn-color-fitted-level-1) 1pt solid;\n",
       "  color: var(--sklearn-color-fitted-level-1);\n",
       "}\n",
       "\n",
       "/* On hover */\n",
       "#sk-container-id-1 a.estimator_doc_link:hover {\n",
       "  /* unfitted */\n",
       "  background-color: var(--sklearn-color-unfitted-level-3);\n",
       "  color: var(--sklearn-color-background);\n",
       "  text-decoration: none;\n",
       "}\n",
       "\n",
       "#sk-container-id-1 a.estimator_doc_link.fitted:hover {\n",
       "  /* fitted */\n",
       "  background-color: var(--sklearn-color-fitted-level-3);\n",
       "}\n",
       "</style><div id=\"sk-container-id-1\" class=\"sk-top-container\"><div class=\"sk-text-repr-fallback\"><pre>LinearRegression()</pre><b>In a Jupyter environment, please rerun this cell to show the HTML representation or trust the notebook. <br />On GitHub, the HTML representation is unable to render, please try loading this page with nbviewer.org.</b></div><div class=\"sk-container\" hidden><div class=\"sk-item\"><div class=\"sk-estimator fitted sk-toggleable\"><input class=\"sk-toggleable__control sk-hidden--visually\" id=\"sk-estimator-id-1\" type=\"checkbox\" checked><label for=\"sk-estimator-id-1\" class=\"sk-toggleable__label fitted sk-toggleable__label-arrow fitted\">&nbsp;&nbsp;LinearRegression<a class=\"sk-estimator-doc-link fitted\" rel=\"noreferrer\" target=\"_blank\" href=\"https://scikit-learn.org/1.4/modules/generated/sklearn.linear_model.LinearRegression.html\">?<span>Documentation for LinearRegression</span></a><span class=\"sk-estimator-doc-link fitted\">i<span>Fitted</span></span></label><div class=\"sk-toggleable__content fitted\"><pre>LinearRegression()</pre></div> </div></div></div></div>"
      ],
      "text/plain": [
       "LinearRegression()"
      ]
     },
     "execution_count": 44,
     "metadata": {},
     "output_type": "execute_result"
    }
   ],
   "source": [
    "model=LinearRegression()\n",
    "model.fit(x_train,y_train)"
   ]
  },
  {
   "cell_type": "code",
   "execution_count": 45,
   "id": "9e0c51ff-6d11-43bc-a78d-0e57548c94e9",
   "metadata": {},
   "outputs": [],
   "source": [
    "y_pred=model.predict(x_test)"
   ]
  },
  {
   "cell_type": "code",
   "execution_count": 46,
   "id": "6f486f18-510c-4364-90e7-39e59ac68b8c",
   "metadata": {},
   "outputs": [
    {
     "data": {
      "text/plain": [
       "16.710451526110802"
      ]
     },
     "execution_count": 46,
     "metadata": {},
     "output_type": "execute_result"
    }
   ],
   "source": [
    "r2_score(y_test,y_pred)*100\n"
   ]
  },
  {
   "cell_type": "code",
   "execution_count": 47,
   "id": "6b2bf8ed-f16a-458b-a844-9f131c359975",
   "metadata": {},
   "outputs": [
    {
     "data": {
      "text/plain": [
       "266084272775.772"
      ]
     },
     "execution_count": 47,
     "metadata": {},
     "output_type": "execute_result"
    }
   ],
   "source": [
    "mean_squared_error(y_test, y_pred)"
   ]
  },
  {
   "cell_type": "code",
   "execution_count": 48,
   "id": "261063e5-d7de-41e0-bbd4-f99819dfd933",
   "metadata": {},
   "outputs": [],
   "source": [
    "new=[[0,2,0,6,155,2.5,2.0,1.0,1.0,126.0,136.0,31,2,4019.0]]"
   ]
  },
  {
   "cell_type": "code",
   "execution_count": 49,
   "id": "31d2b1f5-8d68-46ff-8cca-65b62b30d7e5",
   "metadata": {},
   "outputs": [
    {
     "name": "stderr",
     "output_type": "stream",
     "text": [
      "C:\\ProgramData\\anaconda3\\Lib\\site-packages\\sklearn\\base.py:493: UserWarning: X does not have valid feature names, but LinearRegression was fitted with feature names\n",
      "  warnings.warn(\n"
     ]
    },
    {
     "data": {
      "text/plain": [
       "array([1149190.89066994])"
      ]
     },
     "execution_count": 49,
     "metadata": {},
     "output_type": "execute_result"
    }
   ],
   "source": [
    "model.predict(new)"
   ]
  },
  {
   "cell_type": "code",
   "execution_count": 1,
   "id": "8d017b01-e789-4909-96db-9630e9a96f8b",
   "metadata": {},
   "outputs": [],
   "source": [
    "# Matching With 0 index"
   ]
  },
  {
   "cell_type": "code",
   "execution_count": 50,
   "id": "a7ed8e65-1452-4610-9a0f-5eff4b5ae751",
   "metadata": {},
   "outputs": [
    {
     "data": {
      "text/plain": [
       "0        1050173.0\n",
       "1        1480000.0\n",
       "2        1035000.0\n",
       "3        1050173.0\n",
       "4        1465000.0\n",
       "           ...    \n",
       "34852    1480000.0\n",
       "34853     888000.0\n",
       "34854     705000.0\n",
       "34855    1140000.0\n",
       "34856    1020000.0\n",
       "Name: Price, Length: 34856, dtype: float64"
      ]
     },
     "execution_count": 50,
     "metadata": {},
     "output_type": "execute_result"
    }
   ],
   "source": [
    "y"
   ]
  },
  {
   "cell_type": "code",
   "execution_count": null,
   "id": "4ddfd089-da6c-409e-8de1-eea29cdebe26",
   "metadata": {},
   "outputs": [],
   "source": []
  },
  {
   "cell_type": "code",
   "execution_count": null,
   "id": "7e1e8bb9-c7f8-4184-9d4f-23c0185792bc",
   "metadata": {},
   "outputs": [],
   "source": []
  },
  {
   "cell_type": "code",
   "execution_count": null,
   "id": "d73c3f6f-8162-44d1-a20a-802374b2f249",
   "metadata": {},
   "outputs": [],
   "source": []
  },
  {
   "cell_type": "markdown",
   "id": "0ba3baf9-e5d0-4d30-90eb-ca355cc3fef8",
   "metadata": {},
   "source": [
    "# Random forest"
   ]
  },
  {
   "cell_type": "code",
   "execution_count": 58,
   "id": "dae17a1c-6af3-40a8-a84f-532d37cad37e",
   "metadata": {},
   "outputs": [],
   "source": [
    "import numpy as np\n",
    "import joblib\n",
    "from sklearn.ensemble import RandomForestRegressor\n",
    "from sklearn .metrics import r2_score,accuracy_score,mean_absolute_error,mean_squared_error"
   ]
  },
  {
   "cell_type": "code",
   "execution_count": 54,
   "id": "62bc4499-7055-4499-91e5-c450b9afdd15",
   "metadata": {},
   "outputs": [],
   "source": [
    "# Split the data into training and testing sets\n",
    "x_train, x_test, y_train, y_test = train_test_split(x, y, test_size=0.2, random_state=42)\n",
    "\n",
    "# Initialize and train the Random Forest model\n",
    "rf_model = RandomForestRegressor(n_estimators=100, random_state=42)\n",
    "rf_model.fit(x_train, y_train)\n",
    "\n",
    "# Make predictions\n",
    "y_pred = rf_model.predict(x_test)\n",
    "\n",
    "# Evaluate the model\n",
    "mae = mean_absolute_error(y_test, y_pred)\n",
    "mse = mean_squared_error(y_test, y_pred)\n",
    "rmse = np.sqrt(mse)\n",
    "r2 = r2_score(y_test, y_pred)"
   ]
  },
  {
   "cell_type": "code",
   "execution_count": 57,
   "id": "649a057b-7bfc-4bbb-b398-d71064b319ad",
   "metadata": {},
   "outputs": [
    {
     "name": "stdout",
     "output_type": "stream",
     "text": [
      "Mean Absolute Error (MAE): 228828.6727741249\n",
      "Mean Squared Error (MSE): 161720874619.02707\n",
      "Root Mean Squared Error (RMSE): 402145.34016823705\n",
      "R² Score: 0.5005187850029675\n"
     ]
    }
   ],
   "source": [
    "print(f\"Mean Absolute Error (MAE): {mae}\")\n",
    "print(f\"Mean Squared Error (MSE): {mse}\")\n",
    "print(f\"Root Mean Squared Error (RMSE): {rmse}\")\n",
    "print(f\"R² Score: {r2}\")"
   ]
  },
  {
   "cell_type": "code",
   "execution_count": 60,
   "id": "b13ba4f2-8201-4fbc-a9b2-f00e3749eeec",
   "metadata": {},
   "outputs": [
    {
     "name": "stdout",
     "output_type": "stream",
     "text": [
      "[WinError 2] The system cannot find the file specified: 'Download/'\n",
      "C:\\Users\\HP\\Machine_learning\\simple_understand\\supervised learning\n"
     ]
    }
   ],
   "source": [
    "cd Download/"
   ]
  },
  {
   "cell_type": "code",
   "execution_count": 63,
   "id": "1acdce94-bcb9-4093-b87a-8b69bd0e6770",
   "metadata": {},
   "outputs": [
    {
     "data": {
      "text/plain": [
       "['random_forest_model.pkl']"
      ]
     },
     "execution_count": 63,
     "metadata": {},
     "output_type": "execute_result"
    }
   ],
   "source": [
    "joblib.dump(rf_model, 'random_forest_model.pkl')"
   ]
  },
  {
   "cell_type": "code",
   "execution_count": 64,
   "id": "7c21b227-ed49-4adf-a8d0-d989ed2a9b00",
   "metadata": {},
   "outputs": [],
   "source": [
    "rf_model = joblib.load('random_forest_model.pkl')"
   ]
  },
  {
   "cell_type": "code",
   "execution_count": 72,
   "id": "8aecd87f-aa27-4c40-8b5f-70f63a9780d4",
   "metadata": {},
   "outputs": [],
   "source": [
    "new_house_data = {\n",
    "    'Suburb': [0],\n",
    "    'Rooms': [2],\n",
    "    'Type': [0],\n",
    "    \"Method\":[6],\n",
    "    \"SellerG\":[155],\n",
    "    \"Distance\":[2.5],\n",
    "    \"Bedroom2\":[2.0],\n",
    "    \"Bathroom\":[1.0],\n",
    "    \"Car\":[1.0],\n",
    "    \"Landsize\":[126.0],\n",
    "    \"BuildingArea\":[136.0],\n",
    "    \"CouncilArea\":[31],\n",
    "    \"Regionname\":[2],\n",
    "    \"Propertycount\":[4019.0]}"
   ]
  },
  {
   "cell_type": "code",
   "execution_count": 76,
   "id": "128ca975-8dae-4751-a462-737deb927afb",
   "metadata": {},
   "outputs": [
    {
     "name": "stdout",
     "output_type": "stream",
     "text": [
      "Predicted Price for the new house: $1,069,802.07\n"
     ]
    }
   ],
   "source": [
    "\n",
    "new_house_df = pd.DataFrame(new_house_data)\n",
    "\n",
    "\n",
    "predicted_price = rf_model.predict(new_house_df)\n",
    "\n",
    "\n",
    "print(f\"Predicted Price for the new house: ${predicted_price[0]:,.2f}\")"
   ]
  },
  {
   "cell_type": "code",
   "execution_count": 2,
   "id": "6e012dac-5c4c-4160-9cbe-742bf85754d2",
   "metadata": {},
   "outputs": [],
   "source": [
    "# Matching with 0 index"
   ]
  },
  {
   "cell_type": "code",
   "execution_count": 67,
   "id": "aa4b3186-97d2-4962-b5e8-4c4ec333e02d",
   "metadata": {},
   "outputs": [
    {
     "data": {
      "text/plain": [
       "0        1050173.0\n",
       "1        1480000.0\n",
       "2        1035000.0\n",
       "3        1050173.0\n",
       "4        1465000.0\n",
       "           ...    \n",
       "34852    1480000.0\n",
       "34853     888000.0\n",
       "34854     705000.0\n",
       "34855    1140000.0\n",
       "34856    1020000.0\n",
       "Name: Price, Length: 34856, dtype: float64"
      ]
     },
     "execution_count": 67,
     "metadata": {},
     "output_type": "execute_result"
    }
   ],
   "source": [
    "y"
   ]
  },
  {
   "cell_type": "code",
   "execution_count": null,
   "id": "c45db612-9620-4901-a17d-2a490fc1ceb0",
   "metadata": {},
   "outputs": [],
   "source": []
  },
  {
   "cell_type": "code",
   "execution_count": null,
   "id": "276623ca-cdcf-41ac-8e90-5dac59dcaabb",
   "metadata": {},
   "outputs": [],
   "source": []
  },
  {
   "cell_type": "code",
   "execution_count": null,
   "id": "f6c16592-bc73-4bc0-92d6-75ef02a42701",
   "metadata": {},
   "outputs": [],
   "source": []
  },
  {
   "cell_type": "code",
   "execution_count": null,
   "id": "d4e9fb0b-3257-4d5c-b274-75b3441c75b8",
   "metadata": {},
   "outputs": [],
   "source": []
  }
 ],
 "metadata": {
  "kernelspec": {
   "display_name": "Python 3 (ipykernel)",
   "language": "python",
   "name": "python3"
  },
  "language_info": {
   "codemirror_mode": {
    "name": "ipython",
    "version": 3
   },
   "file_extension": ".py",
   "mimetype": "text/x-python",
   "name": "python",
   "nbconvert_exporter": "python",
   "pygments_lexer": "ipython3",
   "version": "3.12.4"
  }
 },
 "nbformat": 4,
 "nbformat_minor": 5
}
